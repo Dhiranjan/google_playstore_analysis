{
 "cells": [
  {
   "cell_type": "code",
   "execution_count": 24,
   "metadata": {},
   "outputs": [],
   "source": [
    "import pandas as pd\n",
    "import numpy as np\n",
    "import matplotlib.pyplot as plt\n",
    "import seaborn as sns\n",
    "import re\n"
   ]
  },
  {
   "cell_type": "code",
   "execution_count": 25,
   "metadata": {},
   "outputs": [
    {
     "data": {
      "text/html": [
       "<div>\n",
       "<style scoped>\n",
       "    .dataframe tbody tr th:only-of-type {\n",
       "        vertical-align: middle;\n",
       "    }\n",
       "\n",
       "    .dataframe tbody tr th {\n",
       "        vertical-align: top;\n",
       "    }\n",
       "\n",
       "    .dataframe thead th {\n",
       "        text-align: right;\n",
       "    }\n",
       "</style>\n",
       "<table border=\"1\" class=\"dataframe\">\n",
       "  <thead>\n",
       "    <tr style=\"text-align: right;\">\n",
       "      <th></th>\n",
       "      <th>App</th>\n",
       "      <th>Category</th>\n",
       "      <th>Rating</th>\n",
       "      <th>Reviews</th>\n",
       "      <th>Size</th>\n",
       "      <th>Installs</th>\n",
       "      <th>Type</th>\n",
       "      <th>Price</th>\n",
       "      <th>Content Rating</th>\n",
       "      <th>Genres</th>\n",
       "      <th>Last Updated</th>\n",
       "      <th>Current Ver</th>\n",
       "      <th>Android Ver</th>\n",
       "    </tr>\n",
       "  </thead>\n",
       "  <tbody>\n",
       "    <tr>\n",
       "      <th>0</th>\n",
       "      <td>Photo Editor &amp; Candy Camera &amp; Grid &amp; ScrapBook</td>\n",
       "      <td>ART_AND_DESIGN</td>\n",
       "      <td>4.1</td>\n",
       "      <td>159</td>\n",
       "      <td>19M</td>\n",
       "      <td>10,000+</td>\n",
       "      <td>Free</td>\n",
       "      <td>0</td>\n",
       "      <td>Everyone</td>\n",
       "      <td>Art &amp; Design</td>\n",
       "      <td>January 7, 2018</td>\n",
       "      <td>1.0.0</td>\n",
       "      <td>4.0.3 and up</td>\n",
       "    </tr>\n",
       "    <tr>\n",
       "      <th>1</th>\n",
       "      <td>Coloring book moana</td>\n",
       "      <td>ART_AND_DESIGN</td>\n",
       "      <td>3.9</td>\n",
       "      <td>967</td>\n",
       "      <td>14M</td>\n",
       "      <td>500,000+</td>\n",
       "      <td>Free</td>\n",
       "      <td>0</td>\n",
       "      <td>Everyone</td>\n",
       "      <td>Art &amp; Design;Pretend Play</td>\n",
       "      <td>January 15, 2018</td>\n",
       "      <td>2.0.0</td>\n",
       "      <td>4.0.3 and up</td>\n",
       "    </tr>\n",
       "    <tr>\n",
       "      <th>2</th>\n",
       "      <td>U Launcher Lite – FREE Live Cool Themes, Hide ...</td>\n",
       "      <td>ART_AND_DESIGN</td>\n",
       "      <td>4.7</td>\n",
       "      <td>87510</td>\n",
       "      <td>8.7M</td>\n",
       "      <td>5,000,000+</td>\n",
       "      <td>Free</td>\n",
       "      <td>0</td>\n",
       "      <td>Everyone</td>\n",
       "      <td>Art &amp; Design</td>\n",
       "      <td>August 1, 2018</td>\n",
       "      <td>1.2.4</td>\n",
       "      <td>4.0.3 and up</td>\n",
       "    </tr>\n",
       "    <tr>\n",
       "      <th>3</th>\n",
       "      <td>Sketch - Draw &amp; Paint</td>\n",
       "      <td>ART_AND_DESIGN</td>\n",
       "      <td>4.5</td>\n",
       "      <td>215644</td>\n",
       "      <td>25M</td>\n",
       "      <td>50,000,000+</td>\n",
       "      <td>Free</td>\n",
       "      <td>0</td>\n",
       "      <td>Teen</td>\n",
       "      <td>Art &amp; Design</td>\n",
       "      <td>June 8, 2018</td>\n",
       "      <td>Varies with device</td>\n",
       "      <td>4.2 and up</td>\n",
       "    </tr>\n",
       "    <tr>\n",
       "      <th>4</th>\n",
       "      <td>Pixel Draw - Number Art Coloring Book</td>\n",
       "      <td>ART_AND_DESIGN</td>\n",
       "      <td>4.3</td>\n",
       "      <td>967</td>\n",
       "      <td>2.8M</td>\n",
       "      <td>100,000+</td>\n",
       "      <td>Free</td>\n",
       "      <td>0</td>\n",
       "      <td>Everyone</td>\n",
       "      <td>Art &amp; Design;Creativity</td>\n",
       "      <td>June 20, 2018</td>\n",
       "      <td>1.1</td>\n",
       "      <td>4.4 and up</td>\n",
       "    </tr>\n",
       "  </tbody>\n",
       "</table>\n",
       "</div>"
      ],
      "text/plain": [
       "                                                 App        Category  Rating  \\\n",
       "0     Photo Editor & Candy Camera & Grid & ScrapBook  ART_AND_DESIGN     4.1   \n",
       "1                                Coloring book moana  ART_AND_DESIGN     3.9   \n",
       "2  U Launcher Lite – FREE Live Cool Themes, Hide ...  ART_AND_DESIGN     4.7   \n",
       "3                              Sketch - Draw & Paint  ART_AND_DESIGN     4.5   \n",
       "4              Pixel Draw - Number Art Coloring Book  ART_AND_DESIGN     4.3   \n",
       "\n",
       "  Reviews  Size     Installs  Type Price Content Rating  \\\n",
       "0     159   19M      10,000+  Free     0       Everyone   \n",
       "1     967   14M     500,000+  Free     0       Everyone   \n",
       "2   87510  8.7M   5,000,000+  Free     0       Everyone   \n",
       "3  215644   25M  50,000,000+  Free     0           Teen   \n",
       "4     967  2.8M     100,000+  Free     0       Everyone   \n",
       "\n",
       "                      Genres      Last Updated         Current Ver  \\\n",
       "0               Art & Design   January 7, 2018               1.0.0   \n",
       "1  Art & Design;Pretend Play  January 15, 2018               2.0.0   \n",
       "2               Art & Design    August 1, 2018               1.2.4   \n",
       "3               Art & Design      June 8, 2018  Varies with device   \n",
       "4    Art & Design;Creativity     June 20, 2018                 1.1   \n",
       "\n",
       "    Android Ver  \n",
       "0  4.0.3 and up  \n",
       "1  4.0.3 and up  \n",
       "2  4.0.3 and up  \n",
       "3    4.2 and up  \n",
       "4    4.4 and up  "
      ]
     },
     "execution_count": 25,
     "metadata": {},
     "output_type": "execute_result"
    }
   ],
   "source": [
    "df = pd.read_csv('googleplaystore.csv')\n",
    "df.head()\n",
    "\n"
   ]
  },
  {
   "cell_type": "markdown",
   "metadata": {},
   "source": [
    "## Knowing Dataset"
   ]
  },
  {
   "cell_type": "code",
   "execution_count": 26,
   "metadata": {
    "scrolled": true
   },
   "outputs": [
    {
     "data": {
      "text/plain": [
       "Index(['App', 'Category', 'Rating', 'Reviews', 'Size', 'Installs', 'Type',\n",
       "       'Price', 'Content Rating', 'Genres', 'Last Updated', 'Current Ver',\n",
       "       'Android Ver'],\n",
       "      dtype='object')"
      ]
     },
     "execution_count": 26,
     "metadata": {},
     "output_type": "execute_result"
    }
   ],
   "source": [
    "df.columns"
   ]
  },
  {
   "cell_type": "code",
   "execution_count": 27,
   "metadata": {},
   "outputs": [
    {
     "data": {
      "text/plain": [
       "(10841, 13)"
      ]
     },
     "execution_count": 27,
     "metadata": {},
     "output_type": "execute_result"
    }
   ],
   "source": [
    "df.shape"
   ]
  },
  {
   "cell_type": "code",
   "execution_count": 28,
   "metadata": {},
   "outputs": [
    {
     "name": "stdout",
     "output_type": "stream",
     "text": [
      "<class 'pandas.core.frame.DataFrame'>\n",
      "RangeIndex: 10841 entries, 0 to 10840\n",
      "Data columns (total 13 columns):\n",
      " #   Column          Non-Null Count  Dtype  \n",
      "---  ------          --------------  -----  \n",
      " 0   App             10841 non-null  object \n",
      " 1   Category        10841 non-null  object \n",
      " 2   Rating          9367 non-null   float64\n",
      " 3   Reviews         10841 non-null  object \n",
      " 4   Size            10841 non-null  object \n",
      " 5   Installs        10841 non-null  object \n",
      " 6   Type            10840 non-null  object \n",
      " 7   Price           10841 non-null  object \n",
      " 8   Content Rating  10840 non-null  object \n",
      " 9   Genres          10841 non-null  object \n",
      " 10  Last Updated    10841 non-null  object \n",
      " 11  Current Ver     10833 non-null  object \n",
      " 12  Android Ver     10838 non-null  object \n",
      "dtypes: float64(1), object(12)\n",
      "memory usage: 1.1+ MB\n"
     ]
    }
   ],
   "source": [
    "df.info()"
   ]
  },
  {
   "cell_type": "code",
   "execution_count": 29,
   "metadata": {},
   "outputs": [
    {
     "data": {
      "text/plain": [
       "App                object\n",
       "Category           object\n",
       "Rating            float64\n",
       "Reviews            object\n",
       "Size               object\n",
       "Installs           object\n",
       "Type               object\n",
       "Price              object\n",
       "Content Rating     object\n",
       "Genres             object\n",
       "Last Updated       object\n",
       "Current Ver        object\n",
       "Android Ver        object\n",
       "dtype: object"
      ]
     },
     "execution_count": 29,
     "metadata": {},
     "output_type": "execute_result"
    }
   ],
   "source": [
    "df.dtypes"
   ]
  },
  {
   "cell_type": "code",
   "execution_count": 30,
   "metadata": {},
   "outputs": [
    {
     "data": {
      "text/plain": [
       "App                  0\n",
       "Category             0\n",
       "Rating            1474\n",
       "Reviews              0\n",
       "Size                 0\n",
       "Installs             0\n",
       "Type                 1\n",
       "Price                0\n",
       "Content Rating       1\n",
       "Genres               0\n",
       "Last Updated         0\n",
       "Current Ver          8\n",
       "Android Ver          3\n",
       "dtype: int64"
      ]
     },
     "execution_count": 30,
     "metadata": {},
     "output_type": "execute_result"
    }
   ],
   "source": [
    "df.isnull().sum()"
   ]
  },
  {
   "cell_type": "markdown",
   "metadata": {},
   "source": [
    "## Cleaning Dataset\n",
    "\n",
    "#### Task 1: Lower case columns name"
   ]
  },
  {
   "cell_type": "code",
   "execution_count": 31,
   "metadata": {},
   "outputs": [
    {
     "data": {
      "text/plain": [
       "Index(['app', 'category', 'rating', 'reviews', 'size', 'installs', 'type',\n",
       "       'price', 'content rating', 'genres', 'last updated', 'current ver',\n",
       "       'android ver'],\n",
       "      dtype='object')"
      ]
     },
     "execution_count": 31,
     "metadata": {},
     "output_type": "execute_result"
    }
   ],
   "source": [
    "df.columns = [x.lower() for x in df.columns]\n",
    "df.columns"
   ]
  },
  {
   "cell_type": "markdown",
   "metadata": {},
   "source": [
    "#### Task 2: Change column date type to numrical.\n",
    "\n",
    "Below columns contains the numerical data type but in the form of object. In this task will be change it into interger/float dtypes.\n",
    "\n",
    "But we change it's datatyep, we will remove and replace data where it is necessary."
   ]
  },
  {
   "cell_type": "code",
   "execution_count": 32,
   "metadata": {},
   "outputs": [
    {
     "data": {
      "text/html": [
       "<div>\n",
       "<style scoped>\n",
       "    .dataframe tbody tr th:only-of-type {\n",
       "        vertical-align: middle;\n",
       "    }\n",
       "\n",
       "    .dataframe tbody tr th {\n",
       "        vertical-align: top;\n",
       "    }\n",
       "\n",
       "    .dataframe thead th {\n",
       "        text-align: right;\n",
       "    }\n",
       "</style>\n",
       "<table border=\"1\" class=\"dataframe\">\n",
       "  <thead>\n",
       "    <tr style=\"text-align: right;\">\n",
       "      <th></th>\n",
       "      <th>reviews</th>\n",
       "      <th>size</th>\n",
       "      <th>installs</th>\n",
       "      <th>price</th>\n",
       "      <th>current ver</th>\n",
       "      <th>android ver</th>\n",
       "    </tr>\n",
       "  </thead>\n",
       "  <tbody>\n",
       "    <tr>\n",
       "      <th>0</th>\n",
       "      <td>159</td>\n",
       "      <td>19M</td>\n",
       "      <td>10,000+</td>\n",
       "      <td>0</td>\n",
       "      <td>1.0.0</td>\n",
       "      <td>4.0.3 and up</td>\n",
       "    </tr>\n",
       "    <tr>\n",
       "      <th>1</th>\n",
       "      <td>967</td>\n",
       "      <td>14M</td>\n",
       "      <td>500,000+</td>\n",
       "      <td>0</td>\n",
       "      <td>2.0.0</td>\n",
       "      <td>4.0.3 and up</td>\n",
       "    </tr>\n",
       "    <tr>\n",
       "      <th>2</th>\n",
       "      <td>87510</td>\n",
       "      <td>8.7M</td>\n",
       "      <td>5,000,000+</td>\n",
       "      <td>0</td>\n",
       "      <td>1.2.4</td>\n",
       "      <td>4.0.3 and up</td>\n",
       "    </tr>\n",
       "    <tr>\n",
       "      <th>3</th>\n",
       "      <td>215644</td>\n",
       "      <td>25M</td>\n",
       "      <td>50,000,000+</td>\n",
       "      <td>0</td>\n",
       "      <td>Varies with device</td>\n",
       "      <td>4.2 and up</td>\n",
       "    </tr>\n",
       "    <tr>\n",
       "      <th>4</th>\n",
       "      <td>967</td>\n",
       "      <td>2.8M</td>\n",
       "      <td>100,000+</td>\n",
       "      <td>0</td>\n",
       "      <td>1.1</td>\n",
       "      <td>4.4 and up</td>\n",
       "    </tr>\n",
       "    <tr>\n",
       "      <th>...</th>\n",
       "      <td>...</td>\n",
       "      <td>...</td>\n",
       "      <td>...</td>\n",
       "      <td>...</td>\n",
       "      <td>...</td>\n",
       "      <td>...</td>\n",
       "    </tr>\n",
       "    <tr>\n",
       "      <th>10836</th>\n",
       "      <td>38</td>\n",
       "      <td>53M</td>\n",
       "      <td>5,000+</td>\n",
       "      <td>0</td>\n",
       "      <td>1.48</td>\n",
       "      <td>4.1 and up</td>\n",
       "    </tr>\n",
       "    <tr>\n",
       "      <th>10837</th>\n",
       "      <td>4</td>\n",
       "      <td>3.6M</td>\n",
       "      <td>100+</td>\n",
       "      <td>0</td>\n",
       "      <td>1.0</td>\n",
       "      <td>4.1 and up</td>\n",
       "    </tr>\n",
       "    <tr>\n",
       "      <th>10838</th>\n",
       "      <td>3</td>\n",
       "      <td>9.5M</td>\n",
       "      <td>1,000+</td>\n",
       "      <td>0</td>\n",
       "      <td>1.0</td>\n",
       "      <td>2.2 and up</td>\n",
       "    </tr>\n",
       "    <tr>\n",
       "      <th>10839</th>\n",
       "      <td>114</td>\n",
       "      <td>Varies with device</td>\n",
       "      <td>1,000+</td>\n",
       "      <td>0</td>\n",
       "      <td>Varies with device</td>\n",
       "      <td>Varies with device</td>\n",
       "    </tr>\n",
       "    <tr>\n",
       "      <th>10840</th>\n",
       "      <td>398307</td>\n",
       "      <td>19M</td>\n",
       "      <td>10,000,000+</td>\n",
       "      <td>0</td>\n",
       "      <td>Varies with device</td>\n",
       "      <td>Varies with device</td>\n",
       "    </tr>\n",
       "  </tbody>\n",
       "</table>\n",
       "<p>10841 rows × 6 columns</p>\n",
       "</div>"
      ],
      "text/plain": [
       "      reviews                size     installs price         current ver  \\\n",
       "0         159                 19M      10,000+     0               1.0.0   \n",
       "1         967                 14M     500,000+     0               2.0.0   \n",
       "2       87510                8.7M   5,000,000+     0               1.2.4   \n",
       "3      215644                 25M  50,000,000+     0  Varies with device   \n",
       "4         967                2.8M     100,000+     0                 1.1   \n",
       "...       ...                 ...          ...   ...                 ...   \n",
       "10836      38                 53M       5,000+     0                1.48   \n",
       "10837       4                3.6M         100+     0                 1.0   \n",
       "10838       3                9.5M       1,000+     0                 1.0   \n",
       "10839     114  Varies with device       1,000+     0  Varies with device   \n",
       "10840  398307                 19M  10,000,000+     0  Varies with device   \n",
       "\n",
       "              android ver  \n",
       "0            4.0.3 and up  \n",
       "1            4.0.3 and up  \n",
       "2            4.0.3 and up  \n",
       "3              4.2 and up  \n",
       "4              4.4 and up  \n",
       "...                   ...  \n",
       "10836          4.1 and up  \n",
       "10837          4.1 and up  \n",
       "10838          2.2 and up  \n",
       "10839  Varies with device  \n",
       "10840  Varies with device  \n",
       "\n",
       "[10841 rows x 6 columns]"
      ]
     },
     "execution_count": 32,
     "metadata": {},
     "output_type": "execute_result"
    }
   ],
   "source": [
    "df[['reviews','size','installs','price','current ver', 'android ver']]"
   ]
  },
  {
   "cell_type": "markdown",
   "metadata": {},
   "source": [
    "#### Reviews columns"
   ]
  },
  {
   "cell_type": "code",
   "execution_count": 33,
   "metadata": {},
   "outputs": [
    {
     "data": {
      "text/html": [
       "<div>\n",
       "<style scoped>\n",
       "    .dataframe tbody tr th:only-of-type {\n",
       "        vertical-align: middle;\n",
       "    }\n",
       "\n",
       "    .dataframe tbody tr th {\n",
       "        vertical-align: top;\n",
       "    }\n",
       "\n",
       "    .dataframe thead th {\n",
       "        text-align: right;\n",
       "    }\n",
       "</style>\n",
       "<table border=\"1\" class=\"dataframe\">\n",
       "  <thead>\n",
       "    <tr style=\"text-align: right;\">\n",
       "      <th></th>\n",
       "      <th>app</th>\n",
       "      <th>category</th>\n",
       "      <th>rating</th>\n",
       "      <th>reviews</th>\n",
       "      <th>size</th>\n",
       "      <th>installs</th>\n",
       "      <th>type</th>\n",
       "      <th>price</th>\n",
       "      <th>content rating</th>\n",
       "      <th>genres</th>\n",
       "      <th>last updated</th>\n",
       "      <th>current ver</th>\n",
       "      <th>android ver</th>\n",
       "    </tr>\n",
       "  </thead>\n",
       "  <tbody>\n",
       "    <tr>\n",
       "      <th>10472</th>\n",
       "      <td>Life Made WI-Fi Touchscreen Photo Frame</td>\n",
       "      <td>1.9</td>\n",
       "      <td>19.0</td>\n",
       "      <td>3.0M</td>\n",
       "      <td>1,000+</td>\n",
       "      <td>Free</td>\n",
       "      <td>0</td>\n",
       "      <td>Everyone</td>\n",
       "      <td>NaN</td>\n",
       "      <td>February 11, 2018</td>\n",
       "      <td>1.0.19</td>\n",
       "      <td>4.0 and up</td>\n",
       "      <td>NaN</td>\n",
       "    </tr>\n",
       "  </tbody>\n",
       "</table>\n",
       "</div>"
      ],
      "text/plain": [
       "                                           app category  rating reviews  \\\n",
       "10472  Life Made WI-Fi Touchscreen Photo Frame      1.9    19.0    3.0M   \n",
       "\n",
       "         size installs type     price content rating             genres  \\\n",
       "10472  1,000+     Free    0  Everyone            NaN  February 11, 2018   \n",
       "\n",
       "      last updated current ver android ver  \n",
       "10472       1.0.19  4.0 and up         NaN  "
      ]
     },
     "execution_count": 33,
     "metadata": {},
     "output_type": "execute_result"
    }
   ],
   "source": [
    "df[df['reviews'].str.contains('[A-Z]', flags=re.I)]"
   ]
  },
  {
   "cell_type": "markdown",
   "metadata": {},
   "source": [
    "As you can see, at index 10472, there is 3.0M reviews. Which can't be true. With careful observation we can see that, the apps category type is missing in this row and other columns value is push to the next left column.\n",
    "\n",
    "If we check this particular apps in Google play station.It's fall under 'Lifestyle' category.\n",
    "\n",
    "Now, We will update with category and other respected columns. "
   ]
  },
  {
   "cell_type": "code",
   "execution_count": 34,
   "metadata": {},
   "outputs": [
    {
     "data": {
      "text/plain": [
       "app               Life Made WI-Fi Touchscreen Photo Frame\n",
       "category                                        Lifestyle\n",
       "rating                                                1.9\n",
       "reviews                                                19\n",
       "size                                                 3.0M\n",
       "installs                                           1,000+\n",
       "type                                                 Free\n",
       "price                                                   0\n",
       "content rating                                   Everyone\n",
       "genres                                                NaN\n",
       "last updated                            February 11, 2018\n",
       "current ver                                        1.0.19\n",
       "android ver                                    4.0 and up\n",
       "Name: 10472, dtype: object"
      ]
     },
     "execution_count": 34,
     "metadata": {},
     "output_type": "execute_result"
    }
   ],
   "source": [
    "result  = df.iloc[10472].values.tolist()\n",
    "result.insert(1, 'Lifestyle')\n",
    "result.pop()\n",
    "df.iloc[10472] = result\n",
    "df.iloc[10472]"
   ]
  },
  {
   "cell_type": "code",
   "execution_count": 35,
   "metadata": {},
   "outputs": [],
   "source": [
    "df['reviews'] = df['reviews'].astype(int)"
   ]
  },
  {
   "cell_type": "markdown",
   "metadata": {},
   "source": [
    "#### Size column\n",
    "\n",
    "In 'size' columns. There is no specific size for few apps. Of this analysis purpose we will consider those apps having 10.0M size."
   ]
  },
  {
   "cell_type": "code",
   "execution_count": 36,
   "metadata": {},
   "outputs": [
    {
     "data": {
      "text/plain": [
       "0        19.0\n",
       "1        14.0\n",
       "2         8.7\n",
       "3        25.0\n",
       "4         2.8\n",
       "         ... \n",
       "10836    53.0\n",
       "10837     3.6\n",
       "10838     9.5\n",
       "10839    10.0\n",
       "10840    19.0\n",
       "Name: size, Length: 10841, dtype: float64"
      ]
     },
     "execution_count": 36,
     "metadata": {},
     "output_type": "execute_result"
    }
   ],
   "source": [
    "df['size'] = df['size'].apply(lambda x : '10.0' if x == 'Varies with device' else x.replace('M', \"\"))\n",
    "df['size'] = df['size'].apply(lambda x : x.replace('K', \"\"))\n",
    "df['size'] = df['size'].apply(lambda x : x.replace('k', \"\"))\n",
    "df['size'].astype(float)"
   ]
  },
  {
   "cell_type": "markdown",
   "metadata": {},
   "source": [
    "#### Installs Column."
   ]
  },
  {
   "cell_type": "code",
   "execution_count": 37,
   "metadata": {},
   "outputs": [
    {
     "data": {
      "text/plain": [
       "array(['10,000+', '500,000+', '5,000,000+', '50,000,000+', '100,000+',\n",
       "       '50,000+', '1,000,000+', '10,000,000+', '5,000+', '100,000,000+',\n",
       "       '1,000,000,000+', '1,000+', '500,000,000+', '50+', '100+', '500+',\n",
       "       '10+', '1+', '5+', '0+', '0'], dtype=object)"
      ]
     },
     "execution_count": 37,
     "metadata": {},
     "output_type": "execute_result"
    }
   ],
   "source": [
    "df['installs'].unique()"
   ]
  },
  {
   "cell_type": "code",
   "execution_count": 38,
   "metadata": {},
   "outputs": [
    {
     "data": {
      "text/plain": [
       "0           10000\n",
       "1          500000\n",
       "2         5000000\n",
       "3        50000000\n",
       "4          100000\n",
       "           ...   \n",
       "10836        5000\n",
       "10837         100\n",
       "10838        1000\n",
       "10839        1000\n",
       "10840    10000000\n",
       "Name: installs, Length: 10841, dtype: int64"
      ]
     },
     "execution_count": 38,
     "metadata": {},
     "output_type": "execute_result"
    }
   ],
   "source": [
    "df['installs'] = df['installs'].apply(lambda x : x.replace('+', ''))\n",
    "df['installs'] = df['installs'].apply(lambda x : x.replace(',', ''))\n",
    "df['installs'].astype(int)"
   ]
  },
  {
   "cell_type": "markdown",
   "metadata": {},
   "source": [
    "#### Price column."
   ]
  },
  {
   "cell_type": "code",
   "execution_count": 39,
   "metadata": {},
   "outputs": [
    {
     "data": {
      "text/plain": [
       "0        0.0\n",
       "1        0.0\n",
       "2        0.0\n",
       "3        0.0\n",
       "4        0.0\n",
       "        ... \n",
       "10836    0.0\n",
       "10837    0.0\n",
       "10838    0.0\n",
       "10839    0.0\n",
       "10840    0.0\n",
       "Name: price, Length: 10841, dtype: float64"
      ]
     },
     "execution_count": 39,
     "metadata": {},
     "output_type": "execute_result"
    }
   ],
   "source": [
    "df['price'] = df['price'].apply(lambda x : x.replace('$', ''))\n",
    "df['price'].astype(float)"
   ]
  },
  {
   "cell_type": "code",
   "execution_count": 40,
   "metadata": {},
   "outputs": [
    {
     "data": {
      "text/plain": [
       "array(['0', '4.99', '3.99', '6.99', '1.49', '2.99', '7.99', '5.99',\n",
       "       '3.49', '1.99', '9.99', '7.49', '0.99', '9.00', '5.49', '10.00',\n",
       "       '24.99', '11.99', '79.99', '16.99', '14.99', '1.00', '29.99',\n",
       "       '12.99', '2.49', '10.99', '1.50', '19.99', '15.99', '33.99',\n",
       "       '74.99', '39.99', '3.95', '4.49', '1.70', '8.99', '2.00', '3.88',\n",
       "       '25.99', '399.99', '17.99', '400.00', '3.02', '1.76', '4.84',\n",
       "       '4.77', '1.61', '2.50', '1.59', '6.49', '1.29', '5.00', '13.99',\n",
       "       '299.99', '379.99', '37.99', '18.99', '389.99', '19.90', '8.49',\n",
       "       '1.75', '14.00', '4.85', '46.99', '109.99', '154.99', '3.08',\n",
       "       '2.59', '4.80', '1.96', '19.40', '3.90', '4.59', '15.46', '3.04',\n",
       "       '4.29', '2.60', '3.28', '4.60', '28.99', '2.95', '2.90', '1.97',\n",
       "       '200.00', '89.99', '2.56', '30.99', '3.61', '394.99', '1.26',\n",
       "       '1.20', '1.04'], dtype=object)"
      ]
     },
     "execution_count": 40,
     "metadata": {},
     "output_type": "execute_result"
    }
   ],
   "source": [
    "df['price'].unique()"
   ]
  },
  {
   "cell_type": "markdown",
   "metadata": {},
   "source": [
    "### current ver column"
   ]
  },
  {
   "cell_type": "code",
   "execution_count": 41,
   "metadata": {},
   "outputs": [
    {
     "data": {
      "text/html": [
       "<div>\n",
       "<style scoped>\n",
       "    .dataframe tbody tr th:only-of-type {\n",
       "        vertical-align: middle;\n",
       "    }\n",
       "\n",
       "    .dataframe tbody tr th {\n",
       "        vertical-align: top;\n",
       "    }\n",
       "\n",
       "    .dataframe thead th {\n",
       "        text-align: right;\n",
       "    }\n",
       "</style>\n",
       "<table border=\"1\" class=\"dataframe\">\n",
       "  <thead>\n",
       "    <tr style=\"text-align: right;\">\n",
       "      <th></th>\n",
       "      <th>app</th>\n",
       "      <th>category</th>\n",
       "      <th>rating</th>\n",
       "      <th>reviews</th>\n",
       "      <th>size</th>\n",
       "      <th>installs</th>\n",
       "      <th>type</th>\n",
       "      <th>price</th>\n",
       "      <th>content rating</th>\n",
       "      <th>genres</th>\n",
       "      <th>last updated</th>\n",
       "      <th>current ver</th>\n",
       "      <th>android ver</th>\n",
       "    </tr>\n",
       "  </thead>\n",
       "  <tbody>\n",
       "    <tr>\n",
       "      <th>15</th>\n",
       "      <td>Learn To Draw Kawaii Characters</td>\n",
       "      <td>ART_AND_DESIGN</td>\n",
       "      <td>3.2</td>\n",
       "      <td>55</td>\n",
       "      <td>2.7</td>\n",
       "      <td>5000</td>\n",
       "      <td>Free</td>\n",
       "      <td>0</td>\n",
       "      <td>Everyone</td>\n",
       "      <td>Art &amp; Design</td>\n",
       "      <td>June 6, 2018</td>\n",
       "      <td>NaN</td>\n",
       "      <td>4.2 and up</td>\n",
       "    </tr>\n",
       "    <tr>\n",
       "      <th>1553</th>\n",
       "      <td>Market Update Helper</td>\n",
       "      <td>LIBRARIES_AND_DEMO</td>\n",
       "      <td>4.1</td>\n",
       "      <td>20145</td>\n",
       "      <td>11</td>\n",
       "      <td>1000000</td>\n",
       "      <td>Free</td>\n",
       "      <td>0</td>\n",
       "      <td>Everyone</td>\n",
       "      <td>Libraries &amp; Demo</td>\n",
       "      <td>February 12, 2013</td>\n",
       "      <td>NaN</td>\n",
       "      <td>1.5 and up</td>\n",
       "    </tr>\n",
       "    <tr>\n",
       "      <th>6322</th>\n",
       "      <td>Virtual DJ Sound Mixer</td>\n",
       "      <td>TOOLS</td>\n",
       "      <td>4.2</td>\n",
       "      <td>4010</td>\n",
       "      <td>8.7</td>\n",
       "      <td>500000</td>\n",
       "      <td>Free</td>\n",
       "      <td>0</td>\n",
       "      <td>Everyone</td>\n",
       "      <td>Tools</td>\n",
       "      <td>May 10, 2017</td>\n",
       "      <td>NaN</td>\n",
       "      <td>4.0 and up</td>\n",
       "    </tr>\n",
       "    <tr>\n",
       "      <th>6803</th>\n",
       "      <td>BT Master</td>\n",
       "      <td>FAMILY</td>\n",
       "      <td>NaN</td>\n",
       "      <td>0</td>\n",
       "      <td>222</td>\n",
       "      <td>100</td>\n",
       "      <td>Free</td>\n",
       "      <td>0</td>\n",
       "      <td>Everyone</td>\n",
       "      <td>Education</td>\n",
       "      <td>November 6, 2016</td>\n",
       "      <td>NaN</td>\n",
       "      <td>1.6 and up</td>\n",
       "    </tr>\n",
       "    <tr>\n",
       "      <th>7333</th>\n",
       "      <td>Dots puzzle</td>\n",
       "      <td>FAMILY</td>\n",
       "      <td>4</td>\n",
       "      <td>179</td>\n",
       "      <td>14</td>\n",
       "      <td>50000</td>\n",
       "      <td>Paid</td>\n",
       "      <td>0.99</td>\n",
       "      <td>Everyone</td>\n",
       "      <td>Puzzle</td>\n",
       "      <td>April 18, 2018</td>\n",
       "      <td>NaN</td>\n",
       "      <td>4.0 and up</td>\n",
       "    </tr>\n",
       "    <tr>\n",
       "      <th>7407</th>\n",
       "      <td>Calculate My IQ</td>\n",
       "      <td>FAMILY</td>\n",
       "      <td>NaN</td>\n",
       "      <td>44</td>\n",
       "      <td>7.2</td>\n",
       "      <td>10000</td>\n",
       "      <td>Free</td>\n",
       "      <td>0</td>\n",
       "      <td>Everyone</td>\n",
       "      <td>Entertainment</td>\n",
       "      <td>April 3, 2017</td>\n",
       "      <td>NaN</td>\n",
       "      <td>2.3 and up</td>\n",
       "    </tr>\n",
       "    <tr>\n",
       "      <th>7730</th>\n",
       "      <td>UFO-CQ</td>\n",
       "      <td>TOOLS</td>\n",
       "      <td>NaN</td>\n",
       "      <td>1</td>\n",
       "      <td>237</td>\n",
       "      <td>10</td>\n",
       "      <td>Paid</td>\n",
       "      <td>0.99</td>\n",
       "      <td>Everyone</td>\n",
       "      <td>Tools</td>\n",
       "      <td>July 4, 2016</td>\n",
       "      <td>NaN</td>\n",
       "      <td>2.0 and up</td>\n",
       "    </tr>\n",
       "    <tr>\n",
       "      <th>10342</th>\n",
       "      <td>La Fe de Jesus</td>\n",
       "      <td>BOOKS_AND_REFERENCE</td>\n",
       "      <td>NaN</td>\n",
       "      <td>8</td>\n",
       "      <td>658</td>\n",
       "      <td>1000</td>\n",
       "      <td>Free</td>\n",
       "      <td>0</td>\n",
       "      <td>Everyone</td>\n",
       "      <td>Books &amp; Reference</td>\n",
       "      <td>January 31, 2017</td>\n",
       "      <td>NaN</td>\n",
       "      <td>3.0 and up</td>\n",
       "    </tr>\n",
       "  </tbody>\n",
       "</table>\n",
       "</div>"
      ],
      "text/plain": [
       "                                   app             category rating  reviews  \\\n",
       "15     Learn To Draw Kawaii Characters       ART_AND_DESIGN    3.2       55   \n",
       "1553              Market Update Helper   LIBRARIES_AND_DEMO    4.1    20145   \n",
       "6322            Virtual DJ Sound Mixer                TOOLS    4.2     4010   \n",
       "6803                         BT Master               FAMILY    NaN        0   \n",
       "7333                       Dots puzzle               FAMILY      4      179   \n",
       "7407                   Calculate My IQ               FAMILY    NaN       44   \n",
       "7730                            UFO-CQ                TOOLS    NaN        1   \n",
       "10342                   La Fe de Jesus  BOOKS_AND_REFERENCE    NaN        8   \n",
       "\n",
       "      size installs  type price content rating             genres  \\\n",
       "15     2.7     5000  Free     0       Everyone       Art & Design   \n",
       "1553    11  1000000  Free     0       Everyone   Libraries & Demo   \n",
       "6322   8.7   500000  Free     0       Everyone              Tools   \n",
       "6803   222      100  Free     0       Everyone          Education   \n",
       "7333    14    50000  Paid  0.99       Everyone             Puzzle   \n",
       "7407   7.2    10000  Free     0       Everyone      Entertainment   \n",
       "7730   237       10  Paid  0.99       Everyone              Tools   \n",
       "10342  658     1000  Free     0       Everyone  Books & Reference   \n",
       "\n",
       "            last updated current ver android ver  \n",
       "15          June 6, 2018         NaN  4.2 and up  \n",
       "1553   February 12, 2013         NaN  1.5 and up  \n",
       "6322        May 10, 2017         NaN  4.0 and up  \n",
       "6803    November 6, 2016         NaN  1.6 and up  \n",
       "7333      April 18, 2018         NaN  4.0 and up  \n",
       "7407       April 3, 2017         NaN  2.3 and up  \n",
       "7730        July 4, 2016         NaN  2.0 and up  \n",
       "10342   January 31, 2017         NaN  3.0 and up  "
      ]
     },
     "execution_count": 41,
     "metadata": {},
     "output_type": "execute_result"
    }
   ],
   "source": [
    "df[df['current ver'].isna()==True]"
   ]
  },
  {
   "cell_type": "markdown",
   "metadata": {},
   "source": [
    "There are 8 NaN in current ver column. We will assign 1.0 to each of them."
   ]
  },
  {
   "cell_type": "code",
   "execution_count": 42,
   "metadata": {},
   "outputs": [],
   "source": [
    "df['current ver'] = df['current ver'].fillna(1.0)"
   ]
  },
  {
   "cell_type": "code",
   "execution_count": 43,
   "metadata": {},
   "outputs": [
    {
     "data": {
      "text/plain": [
       "(1459, 13)"
      ]
     },
     "execution_count": 43,
     "metadata": {},
     "output_type": "execute_result"
    }
   ],
   "source": [
    "df[df['current ver'] == 'Varies with device'].shape"
   ]
  },
  {
   "cell_type": "markdown",
   "metadata": {},
   "source": [
    "There are 1459 rows where current version of apps 'Varies with device'. We will assign 1.0 for them as well."
   ]
  },
  {
   "cell_type": "code",
   "execution_count": 44,
   "metadata": {},
   "outputs": [],
   "source": [
    "df['current ver'] = df['current ver'].apply(lambda x : 1.0 if x == 'Varies with device' else x)"
   ]
  },
  {
   "cell_type": "code",
   "execution_count": 45,
   "metadata": {},
   "outputs": [],
   "source": [
    "def to_float(x):\n",
    "    if '.' in x:\n",
    "        result = x.split('.')\n",
    "        return result[0]+ \".\" + result[1]\n",
    "    else:\n",
    "        return x + '.' + '0'\n",
    "        \n",
    "    \n",
    "df['current ver'] = df['current ver'].apply(lambda x : to_float(str(x)))\n"
   ]
  },
  {
   "cell_type": "code",
   "execution_count": 47,
   "metadata": {},
   "outputs": [
    {
     "data": {
      "text/plain": [
       "array(['1.0', '2.0', '1.2', '1.1', '6.1', '2.9', '2.8', '3.8', '3.1',\n",
       "       '2.2', '5.5', '4.0', '1.5', '1.03', '6.0', '6.7', '2.20', '1.6',\n",
       "       '2.1', '1.3', '1.46', '11.0', '3.0', '1.7', '2.5', '2.493', '1.9',\n",
       "       '2.20 Build 02', '1.37', '0.2', '4.47', '1.79', '2.3', '8.31',\n",
       "       '10.0', '1.10', '3.20', '1.4', '4.6', '1.40', '2.17', '6.10',\n",
       "       '5.4', '8.0', '3.3', '1.20', '18.5', '1.15', '3.2', '1.911805270',\n",
       "       '9.1', '15.0', '18.05', '5.0', '3.12', '1.28', '9.00', '14.0',\n",
       "       '3.05', '7.0', '3.9', '3.4', '2.19', '9.7', '4.9', '5.2', '3.550',\n",
       "       '7.3', '5.1', '4.1', '99.0', '12.2', '1.12', '0.9', '3.24', '18.7',\n",
       "       '3.19', '6.4', '3.7', '2.6', '5.20', '4.3', '10.46', '11.1',\n",
       "       '2.22', '2.11', '1.08', '6.3', '4.7', '3.16', '4.2', '1.01', '2.4',\n",
       "       '1.8', '37.0', '5.29', '9.8', '11.8', '24.6', '47.1', 'R6.0',\n",
       "       '69.0', '1.60', '11.4', '2.18', '7.5', '37.1', '12.8', '9.9',\n",
       "       '42.0', '0.1', '7.3(800241)', '7.73', '4.98', '7.21', '3.47',\n",
       "       '6.5', '5.65', '5.22', '4.5', '5.85', '196.0', '1.26', '3.5',\n",
       "       '8.1', '5.86', '2018.1', '1.286', '6.19', '5.28', '5.403', '7.2',\n",
       "       '11.10', '4.17', '4.19', '6.6', '1.639', '4.4B', '1.308', '2.45',\n",
       "       '1.31', '1.230', '15.8', '4.8', '1.55', '12.0', '8.7', '3.10',\n",
       "       '1.17', '0.0', '3.6', '4.4', '5.16', '5.3', '8.2', '4.20', '1.',\n",
       "       '3.52', '1.5-beta', '4.813', '1.94', '2.16', '20.7', '2.24',\n",
       "       '2.51', '2.15', '3.14', '5.7', '2.48', '0.29', '10.9', '2.09',\n",
       "       '13.9', '8.5', '15.9', '9.12', '4.21', '1.16', '1.5-play', '1.02',\n",
       "       '2.13', '3.43', '2.05', 'v1.8b22p13', '2.08', '18.07', '6.18',\n",
       "       '01.01', '11.45', '8.0626', '43.0', '4.18', '3.17', '16.0',\n",
       "       '4.003', '4.426', '8.4', '1.57', '2018.07', '1.75', '1.107',\n",
       "       '16.11', '1.14', '18.4', 'Cannonau 3.11', '8.0bld14', '20.1',\n",
       "       '8.18', '10.78', '3.115', '2.31', '5.10', '6.8', '6.28', '5.38',\n",
       "       '2.7', '3.22', '2.70', '6.39', '2.29', '1.13', '2.12', '2.53',\n",
       "       '1.18', '16.6', '4.63', '2.10', '3.04 - Beta', '2.131', '4.10',\n",
       "       '2.34', '8.44', '5.9', '7.8', '6.29', '5.15', '18.6', '7.12',\n",
       "       '2.14', '4.11', '7.9', '5.8', '4.26', '24.5', '2.76', '9.15',\n",
       "       '1.161', '11.11', '5.23', '5.31', 'p5.7', '6.15', '3.401', '112.0',\n",
       "       '5.13', '3.48', '5.14', '6.2', '1.29', '10.24', '8.8', '1.11',\n",
       "       '10.2', 'Public.Heal', '1.92', '7.4', '9.6', '220.0', '1.04',\n",
       "       '858.0', '1.22', 'v3.1', '3.00', '9.0', '10.19', '4.90', '16.7',\n",
       "       '8.00', 'Version:6.97', '02.00', '9.4', '4.35', '12.1', '8.3',\n",
       "       '5.600', '5.800', '2.347', '1.90', '1.129', '2.137', '1.49',\n",
       "       '1.118', '10.322', '2.21', '5.66', '3196.0', '1.751', '5423.0',\n",
       "       '1.21', '5.064', '0.111', '5.200', '1.24', '2.79', '0.7', '3.04',\n",
       "       '5.6', '0.5', '1.180271', '1.250', '1.05', '3.30', '2.0081_206',\n",
       "       '5.39', '19.1', '1.93', '1.76', '1_39_93.0', '79.0', '108.0',\n",
       "       '57.0', '3.15', '60.0', '8.25', '1.73', '2.180723', '7.32',\n",
       "       '10.180530', '149.0', '1.180702', '1.221', '1.47', '3.49',\n",
       "       '37893.0', '3.200', '1.19', '18.1', '20180609.0', '18.2', '3.46',\n",
       "       '1.38', '1.35', '28.0', '6.14', '2018.5', '19.0', '7.6', '7.1',\n",
       "       '1.50', '3.27', '3.25', '6.02', '3.18', '4.36', '2.25', '25.3',\n",
       "       '5.11', '4.23', '3.1-2018 – (13)', '1.830', '10.4', '300000.1',\n",
       "       '2.01', '1.0 Super Ear Hearing', 'PN.1', 'Initial.0', '5.51',\n",
       "       '0.6', '4.95', 'T4.6', '13.0', '4.81', '1.23', '50.2 lite', '7.23',\n",
       "       '2.69', '27.0', '10.6', '16.14', '14.2', '11.7', '4.16', '3.11',\n",
       "       '4.33', '6.25', '29.14', '4.89', '8.9', '5.21', '7.36', '2.124',\n",
       "       '6.9', '18.10', '4.31', '3.28', '3.13', '3.69', '11.6', '13.6',\n",
       "       '584.0', '22.0', '6.21', '2.73', '2.74', '1.43', '9.3', '1.32',\n",
       "       '3.31', '4.70', '71.0', '9.40', '6.71', '6.17', '10.8', '1004.0',\n",
       "       '06.11', '5.12', '2018.6', '2.46', '3.21', '2.28', '2017.7',\n",
       "       '18.30', '5.48', '17.4', '9.2', '10.7', '8.13', '4.13', '8.60',\n",
       "       '4.38', '11.26', '17.7', '2.32', '53.89', '4.15', 'v5.4', '18.21',\n",
       "       '13.8', 'v3.7', 'MyMetro_HTML_2.0_430029', 'v8.0', 'v7.0', '5.36',\n",
       "       '32.1', '1.51', '20180517.0', '2.27', 'v150.0', '4.78', '6.06',\n",
       "       '4.32', '1.33', 'v3.9f', '5.34', '1.284', '5.41', '4.12', '40.0',\n",
       "       '2.60', '2.85', '2.41', '6.07', '18.0', '68.0', 'v1.39', '13.4',\n",
       "       '1.07', '2.30', '2.04', '2.03', 'FreeTimeApp-aosp_v3.14_Build-1',\n",
       "       'Natalia Studio Development.0', '30.0', '8.50', 'v1.0', '17.6',\n",
       "       '1.78', '1.251', '7.10', '1.137', '9.51', '2.71', '5.17', '18.201',\n",
       "       '3.53', '3.000', '2.42', '16.3', '19.2', '116.0', '04.08', '1.39',\n",
       "       '7.16', '5.44', '5.4 (30)', '4.76', '5.072', '8.10', '8.6',\n",
       "       '0.81 beta', '1.58', '4.94', '15.1', '0.8', '0.19', '27500000.0',\n",
       "       '2.35', '1.52', '7.7', '10.23', '1.078', '1.09', 'version 0.994',\n",
       "       '1.640', '1.91', '14.6', '2.23', '3.1 Release b2', '5055.524',\n",
       "       '1.0-build20170819', 'a.2', '2.277', '5.26', '2.44', '1.279',\n",
       "       '0.4', '9.14', '31.0', '1009001.0', '3.01', '1.53', '5.206',\n",
       "       '1900001.0', 'v8[1.0', '7.46', '1.42', '23.0', '9.55', '1805.0618',\n",
       "       '1.2703', '1,01.0', '2.07', '32.0', '1.00', '3.42', '15.6', '1.80',\n",
       "       '1.64', '0.54', '0.11', 'v2018.Apr', 'v2018.May', 'H7SubTV0.1_TV0',\n",
       "       '2.244', '7.3(823181)', '2.100', '3.002', '1.1 Build 226', 'v2.0',\n",
       "       '1.574', '12.6', '9.5', '1.36', '2.40', '10.1', '1.06', '0.16',\n",
       "       '263.16', '1.935', '2.400', '65.0', '4.01', '4.54', '2.92', '1.62',\n",
       "       '1.091', '1.25', '2.94', '6.11', '1.77', '02.02', '3.39',\n",
       "       'acremotecontrol18.0', 'v67_slk3.0_20180115_01',\n",
       "       '1.3 acremotecontrol', 'airConditionerMaintenance_13112015.0',\n",
       "       'v1.1072', '11;11.26', 'acremotecontrol-v7.0', '4.34', '25.0',\n",
       "       '1255162018.0', 'v4.29', '117.0', 'cli-6.5', 'v2.7', '8.05',\n",
       "       '300000.0', 'Version 1.20', '2.26', '132.0', '20.0', '4.435',\n",
       "       '1.2-Release', '0.33', '10001008.0', '11.04', 'closed.0',\n",
       "       '18060104.0', '5.62', '0.46', '568.0', '39.231', 'newversion.0',\n",
       "       '666.0', '10.10', '1.0beta', '1.54', '1.34', '2.59', '2.003',\n",
       "       '1.375', '1.131', 'v3.4', '20180608.0', '20180620.0', '4.05',\n",
       "       'Z (Special Edition R9).0', '1.85', '2.47', '5.06', '1.021',\n",
       "       'Cow V3.15', 'Cow V3.11', '11.17', '1.0-a22936', '3_1.0',\n",
       "       '1.6(3)-demo', '5.805', '16.51', '1.246', '1.48', 'Final.0',\n",
       "       '3.15317', '1.70', '1.401', '250.0', '2.55', '3.55', 'Arrow-202.0',\n",
       "       '3.44', 'v1.1-20151030', '1.8 P', '7.0 RELEASE', '5.54', '2.5_20',\n",
       "       '6.2-pro', '6.2-lite', '6.2-begina', '6.2-sayc', '26.1', '1.126',\n",
       "       'v1.3', 'BL ONLINE PERSONAL TRAINING 7.9', '10.05', 'v1.2', 'v1.1',\n",
       "       '35.119', 'Version 1.3', 'Rocksteady 1.3', '1.3_4', '1.2016',\n",
       "       '26.0', '2.46 Saber', '13.3', '5.63', '0.12', '31.1',\n",
       "       'Version 1.6', '3.61', '2.54', '2.66', 'V1.7', 'V2.3', '2.02',\n",
       "       '5.45', '24.0', '11.15', '4.72',\n",
       "       'no_update_signal.2_9_1_arm-x86_64-alpha', '1.998', '18.08',\n",
       "       '5.68', '1.98', '1.093', '7.17', '1.41', '1.200',\n",
       "       'opciÃ³n de cerrar.0', '2.2 Free', '2.00', '2.26 Build 17',\n",
       "       '106.0', '1.283', '102.0', 'v6.6', \"1.1 (j'sais pas)\", '3.70',\n",
       "       '1.042', '01e.0', '1.6d', '6.95', '70.0',\n",
       "       'fcbd82b2-dd5b-41d2-af62-432271c42921.0', '41.9', '1.28ggl',\n",
       "       'v4.30', 'The CJ Rubric 7.12', '2.38', '202.0', '48.0',\n",
       "       'CL Pro for Craigslist - Canada 150.0', 'Bowser4Craigslist.0',\n",
       "       'App copyright.0', 'Copyright.0', '3.82', 'CL Strength 7.12',\n",
       "       '6.24', '14.15', '0.99', '40.10', '2.49', '2.51f', 'v2.6',\n",
       "       'Gratis.0', '4.84', '1.82', 'Release 1.0', 'Y4W-GATE_CS-5.0',\n",
       "       'SolarCT 1.9 v', '2014.01', '200.0', '3000.5', '2.129', 'KM.0',\n",
       "       'iu4.0', '11.13', '2.5_16', '1.5_6', 'v6.7', '4.4_23',\n",
       "       '20180805.0', '1.2_3', '7.18', '3.29', 'INDIRIMBO V.2014', '700.0',\n",
       "       '24.8', '1.122', 'Android 2.1 - 2015', 'Android 3.0 - 2015',\n",
       "       'Android 3.1 - 2015', 'Android 2.0 - 2016', 'Android 3.1 - 2017',\n",
       "       '2.95', 'Translator 10.9', '4.75', '18.06', '20180518-01.0',\n",
       "       '1.084', '1.56', 'Glueboardv.6', '6.00', '1.911', 'v3.0', '31.11',\n",
       "       'v6.1', '1.193', 'DH-Security Camera.0', '1.67', '10.5', '5.42',\n",
       "       '2.106', 'v2017.Dec', '0.38', '20170828.0', '5.19', '12.04',\n",
       "       '5.03', '0.3', '1.14b', 'HTTPs.0', '21 - Rel2.0', '14.4', '2.68',\n",
       "       '0.21', '67.0', '2.2 (Protostar)', 'DPSTATUS1.0', '15|06|17.0',\n",
       "       'di-v3.4', '1.96', 'r2.5', 'pb1.0', '47.0', '3.67', '2.983',\n",
       "       '6.93', '25.7', '0.20', '1.44', 'V1.0', '0.22', '10.36', '3.98',\n",
       "       '10.012', 'R1.4', '1.27', '17.0', '1.002', '39.272', 'R1.3',\n",
       "       'V1.5', '69.1', '1.441', 'Human Dx.0', '0.74 11', '2018-04-27.0',\n",
       "       '2018-03.0', '0.35', '04.00', '5.27', '33.0', '17.25', '8.07',\n",
       "       '1.278', 'erie1.3', '14.01', '4541.25', 'Build 54.0', 'Build 12.0',\n",
       "       '4.1806', '1.8 (2014-10-10 11:10:51 +0400)', '1.95', '6.08',\n",
       "       '3.33', '130.48', '8.16g', '0.62', '1.173', '25072018.0', '3.45',\n",
       "       '1.932', '5.30', '2.177', '56.0', '17.05', '21.54', 'Paid-9.4',\n",
       "       'Fennec-52.9', '8.02', '2.72', 'BlueOrange.0', '314007.0',\n",
       "       '1000000.6', '36.0', 'Pro 1.1', 'V1-180703.0', 'MONEY.0', '3.07',\n",
       "       'F2i.0', '1.0060', '1.59', '81.0', '1.20180531', '2.96', '2.001',\n",
       "       '2.164', '16.00', '3.08', '0.59', 'V4.1', 'v1.9', '2018.04',\n",
       "       '3.34', '23.2', '2.52', '176.0', '24.4', '7.95', '7.30', '3.953',\n",
       "       '2018.0', '2018.8', '060816.0', '125.0', '23.17', '34.0', '5.33',\n",
       "       '0.90', '20170920.0', 'FH CODE 1.0', '0.24', '0.858', '9.19',\n",
       "       'Android 3.0 - 2017', '3.36', 'Android 2.0 - 2014', '1.0404',\n",
       "       '41.0', '3rd Release Aug 2016.0', '2.5a', '23.01', '0.15',\n",
       "       '2017.07', '1.022', '1.74', '1.72', '6.04'], dtype=object)"
      ]
     },
     "execution_count": 47,
     "metadata": {},
     "output_type": "execute_result"
    }
   ],
   "source": [
    "df['current ver'].unique()"
   ]
  },
  {
   "cell_type": "code",
   "execution_count": null,
   "metadata": {},
   "outputs": [],
   "source": []
  }
 ],
 "metadata": {
  "kernelspec": {
   "display_name": "Python 3",
   "language": "python",
   "name": "python3"
  },
  "language_info": {
   "codemirror_mode": {
    "name": "ipython",
    "version": 3
   },
   "file_extension": ".py",
   "mimetype": "text/x-python",
   "name": "python",
   "nbconvert_exporter": "python",
   "pygments_lexer": "ipython3",
   "version": "3.7.4"
  }
 },
 "nbformat": 4,
 "nbformat_minor": 2
}
